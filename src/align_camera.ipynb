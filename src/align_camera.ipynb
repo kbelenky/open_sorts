{
 "cells": [
  {
   "cell_type": "code",
   "execution_count": null,
   "id": "4a8cac39-4086-4db4-ab14-f428d1e02793",
   "metadata": {},
   "outputs": [],
   "source": [
    "import cv2\n",
    "from matplotlib import pyplot as plt\n",
    "import tensorflow as tf"
   ]
  },
  {
   "cell_type": "code",
   "execution_count": null,
   "id": "3c219407-7073-4c36-94b8-f421c44278b8",
   "metadata": {},
   "outputs": [],
   "source": [
    "vc = cv2.VideoCapture(0)\n",
    "vc.set(cv2.CAP_PROP_FRAME_WIDTH, 1280)\n",
    "vc.set(cv2.CAP_PROP_FRAME_HEIGHT, 720)\n",
    "\n",
    "\n",
    "frame = None\n",
    "if vc.isOpened(): # try to get the first frame\n",
    "    for i in range(10):\n",
    "      rval, frame = vc.read()\n",
    "else:\n",
    "    rval = False\n",
    "    \n",
    "frame = cv2.cvtColor(frame, cv2.COLOR_BGR2RGB)\n",
    "\n",
    "plt.imshow(frame)\n",
    "plt.show()\n",
    "\n",
    "vc.release()\n"
   ]
  },
  {
   "cell_type": "code",
   "execution_count": null,
   "id": "1c6aa314-f938-4fa4-a46e-bfbca8437334",
   "metadata": {},
   "outputs": [],
   "source": [
    "%matplotlib widget\n",
    "import numpy as np\n",
    "import ipywidgets as widgets\n",
    "import transform\n",
    "import tensorflow_addons as tfa\n",
    "import common\n",
    "\n",
    "fig, ax = plt.subplots(ncols=2, figsize=(6, 4))\n",
    "source_axis = ax[0]\n",
    "dest_axis = ax[1]\n",
    "\n",
    "tl_x = widgets.IntSlider(min=0, max=1279, step=1, value=300)\n",
    "tl_y = widgets.IntSlider(min=0, max=719, step=1, value=100)\n",
    "tr_x = widgets.IntSlider(min=0, max=1279, step=1, value=1279-300)\n",
    "tr_y = widgets.IntSlider(min=0, max=719, step=1, value=100)\n",
    "bl_x = widgets.IntSlider(min=0, max=1279, step=1, value=300)\n",
    "bl_y = widgets.IntSlider(min=0, max=719, step=1, value=719-100)\n",
    "br_x = widgets.IntSlider(min=0, max=1279, step=1, value=1279-300)\n",
    "br_y = widgets.IntSlider(min=0, max=719, step=1, value=719-100)\n",
    "\n",
    "loaded_config = common.load_config()\n",
    "if hasattr(loaded_config, 'camera_keypoints'):\n",
    "  [[tl_x.value, tl_y.value], [tr_x.value, tr_y.value], [bl_x.value, bl_y.value], [br_x.value, br_y.value]] = loaded_config.camera_keypoints\n",
    "\n",
    "\n",
    "@widgets.interact(tl_x=tl_x, tl_y=tl_y, tr_x=tr_x, tr_y=tr_y, bl_x=bl_x, bl_y=bl_y, br_x=br_x, br_y=br_y)\n",
    "def display_transformed(tl_x, tl_y, tr_x, tr_y, bl_x, bl_y, br_x, br_y):\n",
    "  corners = [(tl_x, tl_y), (tr_x, tr_y), (bl_x, bl_y), (br_x, br_y)]\n",
    "  t = transform.keypoints_to_transform(640, 448, *corners)\n",
    "  transformed_image = tfa.image.transform(frame, t, interpolation='bilinear', fill_value=255, output_shape=(448, 640))\n",
    "  source_image = frame.copy()\n",
    "  cv2.line(source_image, (tl_x, tl_y), (tr_x, tr_y), (0, 255, 0), thickness=3)\n",
    "  cv2.line(source_image, (br_x, br_y), (tr_x, tr_y), (0, 255, 0), thickness=3)\n",
    "  cv2.line(source_image, (bl_x, bl_y), (br_x, br_y), (0, 255, 0), thickness=3)\n",
    "  cv2.line(source_image, (bl_x, bl_y), (tl_x, tl_y), (0, 255, 0), thickness=3)\n",
    "\n",
    "  source_axis.clear()\n",
    "  dest_axis.clear()\n",
    "  source_axis.imshow(source_image)\n",
    "  dest_axis.imshow(transformed_image)\n",
    "  print(corners)\n",
    "\n",
    "save_button = widgets.Button(description='Save')\n",
    "display(save_button)\n",
    "\n",
    "def click_handler(keypoints):\n",
    "    def handler(btn):\n",
    "        config = common.load_config()\n",
    "        print(config)\n",
    "        config.camera_keypoints = [(x.value, y.value) for x,y in keypoints]\n",
    "        print(config)\n",
    "        common.save_config(common.to_dictionary(config))\n",
    "    return handler\n",
    "\n",
    "save_button.on_click(click_handler([(tl_x, tl_y), (tr_x, tr_y), (bl_x, bl_y), (br_x, br_y)]))"
   ]
  },
  {
   "cell_type": "code",
   "execution_count": null,
   "id": "1a21c160-c947-48c4-9967-4e9e6d2abeef",
   "metadata": {},
   "outputs": [],
   "source": []
  }
 ],
 "metadata": {
  "kernelspec": {
   "display_name": "Python 3 (ipykernel)",
   "language": "python",
   "name": "python3"
  },
  "language_info": {
   "codemirror_mode": {
    "name": "ipython",
    "version": 3
   },
   "file_extension": ".py",
   "mimetype": "text/x-python",
   "name": "python",
   "nbconvert_exporter": "python",
   "pygments_lexer": "ipython3",
   "version": "3.9.9"
  }
 },
 "nbformat": 4,
 "nbformat_minor": 5
}
